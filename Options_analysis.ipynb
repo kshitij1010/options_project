{
 "cells": [
  {
   "cell_type": "code",
   "execution_count": 5,
   "metadata": {},
   "outputs": [
    {
     "ename": "ModuleNotFoundError",
     "evalue": "No module named 'yfinance'",
     "output_type": "error",
     "traceback": [
      "\u001b[0;31m---------------------------------------------------------------------------\u001b[0m",
      "\u001b[0;31mModuleNotFoundError\u001b[0m                       Traceback (most recent call last)",
      "Cell \u001b[0;32mIn[5], line 2\u001b[0m\n\u001b[1;32m      1\u001b[0m \u001b[38;5;66;03m# Import required libraries\u001b[39;00m\n\u001b[0;32m----> 2\u001b[0m \u001b[38;5;28;01mimport\u001b[39;00m \u001b[38;5;21;01myfinance\u001b[39;00m \u001b[38;5;28;01mas\u001b[39;00m \u001b[38;5;21;01myf\u001b[39;00m\n\u001b[1;32m      3\u001b[0m \u001b[38;5;28;01mimport\u001b[39;00m \u001b[38;5;21;01mnumpy\u001b[39;00m \u001b[38;5;28;01mas\u001b[39;00m \u001b[38;5;21;01mnp\u001b[39;00m\n\u001b[1;32m      4\u001b[0m \u001b[38;5;28;01mimport\u001b[39;00m \u001b[38;5;21;01mmatplotlib\u001b[39;00m\u001b[38;5;21;01m.\u001b[39;00m\u001b[38;5;21;01mpyplot\u001b[39;00m \u001b[38;5;28;01mas\u001b[39;00m \u001b[38;5;21;01mplt\u001b[39;00m\n",
      "\u001b[0;31mModuleNotFoundError\u001b[0m: No module named 'yfinance'"
     ]
    }
   ],
   "source": [
    "# Import required libraries\n",
    "import yfinance as yf\n",
    "import numpy as np\n",
    "import matplotlib.pyplot as plt\n",
    "import scipy.stats as stats\n",
    "import pandas as pd"
   ]
  },
  {
   "cell_type": "code",
   "execution_count": null,
   "metadata": {},
   "outputs": [],
   "source": [
    "# Define tickers from different sectors\n",
    "tickers = ['TSLA', 'AAPL', 'JNJ']  # Example tickers: Tesla (Automotive), Apple (Technology), Johnson & Johnson (Healthcare)\n",
    "exp_date = '2024-12-20'  # Set an expiration date in the future for available options\n",
    "strike_price = 150  # Modify based on the dataset to check various options"
   ]
  },
  {
   "cell_type": "code",
   "execution_count": null,
   "metadata": {},
   "outputs": [],
   "source": [
    "# Dictionary to store data for each ticker\n",
    "options_data = {}\n",
    "\n",
    "# Loop through each ticker to fetch options data\n",
    "for ticker in tickers:\n",
    "    stock = yf.Ticker(ticker)\n",
    "    options = stock.option_chain(exp_date)\n",
    "    call_option = options.calls[options.calls['strike'] == strike_price].iloc[0]\n",
    "    put_option = options.puts[options.puts['strike'] == strike_price].iloc[0]\n",
    "    S0 = stock.history(period='1d')['Close'][-1]  # Current stock price\n",
    "    sigma = stock.history(period='1y')['Close'].pct_change().std() * np.sqrt(252)  # Historical volatility\n",
    "    options_data[ticker] = {\n",
    "        'stock': stock,\n",
    "        'call_option': call_option,\n",
    "        'put_option': put_option,\n",
    "        'S0': S0,\n",
    "        'sigma': sigma\n",
    "    }"
   ]
  },
  {
   "cell_type": "code",
   "execution_count": null,
   "metadata": {},
   "outputs": [],
   "source": [
    "# Define common parameters\n",
    "K = strike_price  # Strike price\n",
    "T = (pd.to_datetime(exp_date) - pd.to_datetime('today')).days / 365  # Time to expiration in years\n",
    "r = 0.05  # Risk-free interest rate (annualized)"
   ]
  },
  {
   "cell_type": "code",
   "execution_count": null,
   "metadata": {},
   "outputs": [],
   "source": [
    "# Monte Carlo Simulation for Asian Option\n",
    "def monte_carlo_asian_option(S0, K, T, r, sigma, simulations=10000, steps=252):\n",
    "    dt = T / steps\n",
    "    prices = np.zeros((simulations, steps))\n",
    "    prices[:, 0] = S0\n",
    "\n",
    "    # Simulate price paths\n",
    "    for t in range(1, steps):\n",
    "        z = np.random.standard_normal(simulations)\n",
    "        prices[:, t] = prices[:, t-1] * np.exp((r - 0.5 * sigma**2) * dt + sigma * np.sqrt(dt) * z)\n",
    "\n",
    "    # Calculate average price at maturity\n",
    "    avg_price = prices.mean(axis=1)\n",
    "    payoffs = np.maximum(avg_price - K, 0)  # For call option\n",
    "    option_price = np.exp(-r * T) * payoffs.mean()\n",
    "    return option_price, prices\n",
    "\n",
    "# Run Monte Carlo simulations for each stock and plot results\n",
    "for ticker, data in options_data.items():\n",
    "    asian_option_price, price_paths = monte_carlo_asian_option(data['S0'], K, T, r, data['sigma'])\n",
    "\n",
    "    # Plotting only a subset of paths for clarity\n",
    "    plt.figure(figsize=(12, 6))\n",
    "    num_paths_to_plot = 50  # Plot only a subset for a cleaner display\n",
    "\n",
    "    # Plot the sampled paths\n",
    "    for i in range(num_paths_to_plot):\n",
    "        plt.plot(price_paths[i], lw=0.5)\n",
    "\n",
    "    # Plot the average path\n",
    "    avg_path = price_paths.mean(axis=0)\n",
    "    plt.plot(avg_path, color='black', lw=2, label='Average Path')\n",
    "\n",
    "    plt.title(f\"Simulated Price Paths for Asian Option (Subset) - {ticker}\")\n",
    "    plt.xlabel(\"Days\")\n",
    "    plt.ylabel(\"Price\")\n",
    "    plt.legend()\n",
    "    plt.show()\n",
    "\n",
    "    print(f\"{ticker} Asian Option Price (Monte Carlo): {asian_option_price}\")"
   ]
  },
  {
   "cell_type": "code",
   "execution_count": null,
   "metadata": {},
   "outputs": [],
   "source": [
    "# Vanilla Option Payoff Tables\n",
    "def calculate_vanilla_payoff(S_range, K, premium, option_type='call'):\n",
    "    \"\"\"Calculates the payoff for Vanilla Call and Put options over a range of prices.\"\"\"\n",
    "    if option_type == 'call':\n",
    "        payoff = np.maximum(S_range - K, 0) - premium\n",
    "    elif option_type == 'put':\n",
    "        payoff = np.maximum(K - S_range, 0) - premium\n",
    "    return payoff\n",
    "\n",
    "# Range of underlying prices to visualize payoffs\n",
    "S_range = np.linspace(0.5 * data['S0'], 1.5 * data['S0'], 100)\n",
    "\n",
    "# Create payoff tables for each ticker\n",
    "for ticker, data in options_data.items():\n",
    "    call_payoff = calculate_vanilla_payoff(S_range, K, data['call_option']['lastPrice'], 'call')\n",
    "    put_payoff = calculate_vanilla_payoff(S_range, K, data['put_option']['lastPrice'], 'put')\n",
    "    asian_payoff = np.maximum(S_range.mean() - K, 0)  # Example for an Asian Call\n",
    "\n",
    "    # Store results in a DataFrame for the payoff table\n",
    "    payoff_table = pd.DataFrame({\n",
    "        'Underlying Price': S_range,\n",
    "        'Call Payoff': call_payoff,\n",
    "        'Put Payoff': put_payoff,\n",
    "        'Asian Call Payoff': asian_payoff\n",
    "    })\n",
    "\n",
    "    print(f\"Payoff Table for {ticker}:\")\n",
    "    print(payoff_table)"
   ]
  },
  {
   "cell_type": "code",
   "execution_count": null,
   "metadata": {},
   "outputs": [],
   "source": [
    "# Risk-Return Analysis using Sharpe Ratio\n",
    "expected_return = price_paths[:, -1].mean() / price_paths[:, -1].std()  # Example: Using terminal price paths\n",
    "volatility = price_paths[:, -1].std()\n",
    "sharpe_ratio = (expected_return - r) / volatility\n",
    "\n",
    "print(f\"Sharpe Ratio: {sharpe_ratio:.2f}\")\n",
    "\n",
    "# Plotting Vanilla and Exotic Payoffs for one of the stocks\n",
    "plt.figure(figsize=(12, 6))\n",
    "plt.plot(S_range, call_payoff, label='Vanilla Call Payoff', linestyle='--')\n",
    "plt.plot(S_range, put_payoff, label='Vanilla Put Payoff', linestyle=':')\n",
    "plt.plot(S_range, [asian_payoff] * len(S_range), label='Asian Call Payoff', linestyle='-.')\n",
    "\n",
    "plt.xlabel('Underlying Asset Price')\n",
    "plt.ylabel('Profit/Loss')\n",
    "plt.title(f'Option Payoffs for Vanilla and Exotic Options - {tickers[0]}')\n",
    "plt.legend()\n",
    "plt.grid(True)\n",
    "plt.show()"
   ]
  }
 ],
 "metadata": {
  "kernelspec": {
   "display_name": "options",
   "language": "python",
   "name": "python3"
  },
  "language_info": {
   "codemirror_mode": {
    "name": "ipython",
    "version": 3
   },
   "file_extension": ".py",
   "mimetype": "text/x-python",
   "name": "python",
   "nbconvert_exporter": "python",
   "pygments_lexer": "ipython3",
   "version": "3.13.0"
  }
 },
 "nbformat": 4,
 "nbformat_minor": 2
}
